{
 "cells": [
  {
   "cell_type": "markdown",
   "metadata": {},
   "source": [
    "# Table of contents\n",
    "\n",
    "## [1. Libraries](#section_1)\n",
    "\n",
    "## [2. Merge of data](#section_2)\n",
    "\n",
    "## [3. Total Activities](#section_3)\n",
    "\n",
    "## [4. Saving the csv](#section_4)"
   ]
  },
  {
   "cell_type": "markdown",
   "metadata": {},
   "source": [
    "### 1. Libraries used<a id='section_1'></a>\n"
   ]
  },
  {
   "cell_type": "code",
   "execution_count": 42,
   "metadata": {},
   "outputs": [],
   "source": [
    "import pandas as pd\n",
    "import os\n"
   ]
  },
  {
   "cell_type": "markdown",
   "metadata": {},
   "source": [
    "### 2. Merging of data<a id='section_2'></a>"
   ]
  },
  {
   "cell_type": "code",
   "execution_count": 43,
   "metadata": {},
   "outputs": [
    {
     "name": "stderr",
     "output_type": "stream",
     "text": [
      "C:\\Users\\Tamanna\\Anaconda3\\lib\\site-packages\\ipykernel\\__main__.py:14: FutureWarning: Sorting because non-concatenation axis is not aligned. A future version\n",
      "of pandas will change to not sort by default.\n",
      "\n",
      "To accept the future behavior, pass 'sort=False'.\n",
      "\n",
      "To retain the current behavior and silence the warning, pass 'sort=True'.\n",
      "\n"
     ]
    }
   ],
   "source": [
    "# Read all csv and combine them\n",
    "import pandas as pd\n",
    "import glob\n",
    "\n",
    "path = os.getcwd()\n",
    "all_files = glob.glob(path + \"/*.csv\")\n",
    "\n",
    "li = []\n",
    "\n",
    "\n",
    "# Reading all the csv in the folder\n",
    "for filename in all_files:\n",
    "    df = pd.read_csv(filename, index_col=None, header=0, encoding='cp1252')\n",
    "    li.append(df)\n",
    "\n",
    "activities = pd.concat(li, axis=0, ignore_index=True)"
   ]
  },
  {
   "cell_type": "code",
   "execution_count": 44,
   "metadata": {},
   "outputs": [],
   "source": [
    "act_1 = activities['activity_1'].unique().tolist()\n",
    "act_2 = activities['activity_2'].unique().tolist()\n",
    "act_3 = activities['activity_3'].unique().tolist()\n",
    "act_4 = activities['activity_4'].unique().tolist()\n"
   ]
  },
  {
   "cell_type": "code",
   "execution_count": 45,
   "metadata": {},
   "outputs": [
    {
     "name": "stdout",
     "output_type": "stream",
     "text": [
      "combining all activities= 40\n",
      "displaying only unique items= 19\n"
     ]
    }
   ],
   "source": [
    "total_activities = act_1 + act_2 +act_3+act_4\n",
    "print(\"combining all activities=\",len(total_activities))\n",
    "total_activities = set(total_activities)\n",
    "print(\"displaying only unique items=\",len(total_activities))"
   ]
  },
  {
   "cell_type": "markdown",
   "metadata": {},
   "source": [
    "### 3. Total Activities<a id='section_3'></a>"
   ]
  },
  {
   "cell_type": "code",
   "execution_count": 46,
   "metadata": {},
   "outputs": [
    {
     "data": {
      "text/plain": [
       "{'boating_club',\n",
       " 'cooking_classes',\n",
       " 'disability_activity',\n",
       " 'fitness_centre',\n",
       " 'gardening_club',\n",
       " nan,\n",
       " 'neighbourhood_house',\n",
       " 'orienteering_club',\n",
       " 'personal_training',\n",
       " 'recreation_group',\n",
       " 'state_body',\n",
       " 'swimming_pool',\n",
       " 'tai_chi',\n",
       " 'tracks_trails',\n",
       " 'volunteering',\n",
       " 'walking_group',\n",
       " 'water_sports',\n",
       " 'wheelchair_sports',\n",
       " 'yoga'}"
      ]
     },
     "execution_count": 46,
     "metadata": {},
     "output_type": "execute_result"
    }
   ],
   "source": [
    "total_activities"
   ]
  },
  {
   "cell_type": "code",
   "execution_count": 47,
   "metadata": {},
   "outputs": [],
   "source": [
    "activities =activities[['Postcode','Suburb','Address', 'LGA', 'Region', 'State','Name',\n",
    "       'activity_1', 'activity_2', 'activity_3', 'activity_4']]"
   ]
  },
  {
   "cell_type": "markdown",
   "metadata": {},
   "source": [
    "### 4. Saving the final cleaned csv<a id='section_4'></a>"
   ]
  },
  {
   "cell_type": "code",
   "execution_count": 48,
   "metadata": {},
   "outputs": [],
   "source": [
    "activities=activities[~activities['Postcode'].isnull()]\n",
    "activities.sort_values(by=['Postcode'], inplace=True)\n",
    "\n",
    "activities.to_csv('final_vic_activities.csv',index=False)"
   ]
  }
 ],
 "metadata": {
  "kernelspec": {
   "display_name": "Python [default]",
   "language": "python",
   "name": "python3"
  },
  "language_info": {
   "codemirror_mode": {
    "name": "ipython",
    "version": 3
   },
   "file_extension": ".py",
   "mimetype": "text/x-python",
   "name": "python",
   "nbconvert_exporter": "python",
   "pygments_lexer": "ipython3",
   "version": "3.6.6"
  }
 },
 "nbformat": 4,
 "nbformat_minor": 2
}
